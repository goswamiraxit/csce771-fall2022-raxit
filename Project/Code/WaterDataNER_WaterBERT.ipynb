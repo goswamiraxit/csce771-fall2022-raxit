{
  "nbformat": 4,
  "nbformat_minor": 0,
  "metadata": {
    "colab": {
      "provenance": [],
      "machine_shape": "hm"
    },
    "kernelspec": {
      "name": "python3",
      "display_name": "Python 3"
    },
    "language_info": {
      "name": "python"
    },
    "accelerator": "GPU",
    "gpuClass": "premium"
  },
  "cells": [
    {
      "cell_type": "code",
      "source": [
        "from google.colab import drive\n",
        "drive.mount('/content/drive')"
      ],
      "metadata": {
        "colab": {
          "base_uri": "https://localhost:8080/"
        },
        "id": "UjPwJvqOZAbt",
        "outputId": "16d9661d-52d0-43d7-8ee5-74df63069120"
      },
      "execution_count": null,
      "outputs": [
        {
          "output_type": "stream",
          "name": "stdout",
          "text": [
            "Mounted at /content/drive\n"
          ]
        }
      ]
    },
    {
      "cell_type": "code",
      "source": [
        "!sh /content/drive/MyDrive/CSCE\\ Fall2022-Raxit/Course\\ Project/WaterBERT/pdf2txt_wbert.sh"
      ],
      "metadata": {
        "id": "UEOif4G0eEsW"
      },
      "execution_count": null,
      "outputs": []
    },
    {
      "cell_type": "code",
      "source": [
        "def read_text_file(file_path):\n",
        "    with open(file_path, 'r') as f:\n",
        "        return f.readlines()"
      ],
      "metadata": {
        "id": "0uDRipX1CbuE"
      },
      "execution_count": null,
      "outputs": []
    },
    {
      "cell_type": "code",
      "source": [
        "import os\n",
        "  \n",
        "# Folder Path\n",
        "path = \"/content/drive/MyDrive/CSCE Fall2022-Raxit/Course Project/WaterBERT/DATA/TXT/\"\n",
        "  \n",
        "# Change the directory\n",
        "os.chdir(path)\n",
        "New_Lines = []\n",
        "for file in os.listdir():\n",
        "    # Check whether file is in text format or not\n",
        "    if file.endswith(\".txt\"):\n",
        "        file_path = f\"{path}{file}\"\n",
        "  \n",
        "        # call read text file function\n",
        "        Lines = read_text_file(file_path)\n",
        "        new_line = \"\";\n",
        "        for line in Lines:\n",
        "          if(line.strip() != \"\"):\n",
        "            new_line = new_line +\" \"+ line.strip()\n",
        "            continue;\n",
        "          if(new_line != \"\"):\n",
        "            New_Lines.append(new_line)\n",
        "          new_line = \"\"\n",
        "        if(new_line != \"\"):\n",
        "            New_Lines.append(new_line)\n",
        "    print(len(New_Lines))\n",
        "print(len(New_Lines))"
      ],
      "metadata": {
        "id": "8Y8t1JkeBnUq"
      },
      "execution_count": null,
      "outputs": []
    },
    {
      "cell_type": "code",
      "source": [
        "from spacy.tokenizer import Tokenizer\n",
        "from spacy.lang.en import English\n",
        "nlp = English()\n",
        "# Create a blank Tokenizer with just the English vocab\n",
        "tokenizer = Tokenizer(nlp.vocab)\n",
        "\n",
        "# Construction 2\n",
        "from spacy.lang.en import English\n",
        "nlp = English()\n",
        "# Create a Tokenizer with the default settings for English\n",
        "# including punctuation rules and exceptions\n",
        "tokenizer = nlp.tokenizer\n",
        "total_tokens = 0\n",
        "for line in New_Lines:\n",
        "  tokens = tokenizer(line)\n",
        "  total_tokens = total_tokens + len(tokens)\n",
        "print(total_tokens)"
      ],
      "metadata": {
        "colab": {
          "base_uri": "https://localhost:8080/"
        },
        "id": "QfpuSdfG-ptd",
        "outputId": "24849b75-5911-4a51-e9ba-188adce0587b"
      },
      "execution_count": null,
      "outputs": [
        {
          "output_type": "stream",
          "name": "stdout",
          "text": [
            "7586359\n"
          ]
        }
      ]
    },
    {
      "cell_type": "code",
      "source": [
        "# Construction 1\n",
        "from spacy.tokenizer import Tokenizer\n",
        "from spacy.lang.en import English\n",
        "nlp = English()\n",
        "# Create a blank Tokenizer with just the English vocab\n",
        "tokenizer = Tokenizer(nlp.vocab)\n",
        "\n",
        "# Construction 2\n",
        "from spacy.lang.en import English\n",
        "nlp = English()\n",
        "# Create a Tokenizer with the default settings for English\n",
        "# including punctuation rules and exceptions\n",
        "tokenizer = nlp.tokenizer\n",
        "\n",
        "\n",
        "tokens = tokenizer(\"This is a sentence\")\n",
        "print(len(tokens))"
      ],
      "metadata": {
        "colab": {
          "base_uri": "https://localhost:8080/"
        },
        "id": "BHxkZOYK92Xr",
        "outputId": "a89b37d5-aeb1-461b-9ca5-6b12ba9f57b3"
      },
      "execution_count": null,
      "outputs": [
        {
          "output_type": "stream",
          "name": "stdout",
          "text": [
            "4\n"
          ]
        }
      ]
    },
    {
      "cell_type": "code",
      "source": [
        "import numpy as np\n",
        "from sklearn.model_selection import train_test_split\n",
        "Lines_train, Lines_test = train_test_split(New_Lines, test_size=0.20, random_state=42)"
      ],
      "metadata": {
        "id": "8ENrbS8SdMUo"
      },
      "execution_count": null,
      "outputs": []
    },
    {
      "cell_type": "code",
      "source": [
        "print(len(Lines_train))\n",
        "print(len(Lines_test))"
      ],
      "metadata": {
        "colab": {
          "base_uri": "https://localhost:8080/"
        },
        "id": "1BFfUSg1jLPg",
        "outputId": "86be8517-e3f9-420f-e874-1435bb9ba3ca"
      },
      "execution_count": null,
      "outputs": [
        {
          "output_type": "stream",
          "name": "stdout",
          "text": [
            "73083\n",
            "18271\n"
          ]
        }
      ]
    },
    {
      "cell_type": "code",
      "source": [
        "f = open(\"/content/drive/MyDrive/CSCE Fall2022-Raxit/Course Project/WaterBERT/DATA/train.txt\", \"w\")\n",
        "for line in Lines_train:\n",
        "  f.write(line+\"\\n\")\n",
        "f.close()"
      ],
      "metadata": {
        "id": "WFGdNpcnjTVn"
      },
      "execution_count": null,
      "outputs": []
    },
    {
      "cell_type": "code",
      "source": [
        "f = open(\"/content/drive/MyDrive/CSCE Fall2022-Raxit/Course Project/WaterBERT/DATA/test.txt\", \"w\")\n",
        "for line in Lines_test:\n",
        "  f.write(line+\"\\n\")\n",
        "f.close()"
      ],
      "metadata": {
        "id": "qS_Auzcpj4zo"
      },
      "execution_count": null,
      "outputs": []
    },
    {
      "cell_type": "code",
      "source": [
        "!git clone https://github.com/huggingface/transformers\n",
        "%cd transformers\n",
        "!pip install .\n",
        "!pip install -r /content/transformers/examples/pytorch/language-modeling/requirements.txt\n",
        "%cd ../\n",
        "!pip install datasets sentencepiece"
      ],
      "metadata": {
        "id": "axIbOyjykI_-"
      },
      "execution_count": null,
      "outputs": []
    },
    {
      "cell_type": "code",
      "source": [
        "!python /content/transformers/examples/pytorch/language-modeling/run_mlm.py \\\n",
        "    --model_name_or_path bert-base-cased  \\\n",
        "    --train_file  \"/content/drive/MyDrive/CSCE Fall2022-Raxit/Course Project/WaterBERT/DATA/train.txt\" \\\n",
        "    --validation_file \"/content/drive/MyDrive/CSCE Fall2022-Raxit/Course Project/WaterBERT/DATA/test.txt\" \\\n",
        "    --max_seq_length 128\\\n",
        "    --do_train \\\n",
        "    --do_eval \\\n",
        "    --per_device_train_batch_size 8\\\n",
        "    --per_device_eval_batch_size 1\\\n",
        "    --output_dir \"/content/drive/MyDrive/CSCE Fall2022-Raxit/Course Project/WaterBERT/water-bert-cased\" \\\n",
        "    --overwrite_output_dir \\\n",
        "    --save_steps 5000"
      ],
      "metadata": {
        "id": "zzA47dImp2rM"
      },
      "execution_count": null,
      "outputs": []
    }
  ]
}