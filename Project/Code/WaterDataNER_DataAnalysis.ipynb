{
  "nbformat": 4,
  "nbformat_minor": 0,
  "metadata": {
    "colab": {
      "provenance": []
    },
    "kernelspec": {
      "name": "python3",
      "display_name": "Python 3"
    },
    "language_info": {
      "name": "python"
    }
  },
  "cells": [
    {
      "cell_type": "code",
      "execution_count": null,
      "metadata": {
        "id": "OLw2OlR1eqEx"
      },
      "outputs": [],
      "source": [
        "filedata = open(\"/content/drive/MyDrive/WaterRegulationsProject/00000519c.txt\",\"r\").read()"
      ]
    },
    {
      "cell_type": "code",
      "source": [
        "filedata[1:5000]"
      ],
      "metadata": {
        "id": "r4ecDKjFgrLG"
      },
      "execution_count": null,
      "outputs": []
    },
    {
      "cell_type": "code",
      "source": [
        "import re\n",
        "indices = [m.start() for m in re.finditer('\\x0c', filedata)]\n",
        "pages = []\n",
        "index = 0\n",
        "for end in indices:\n",
        "  pages.append(filedata[index:end+1])\n",
        "  index = end+1"
      ],
      "metadata": {
        "id": "dHX4Rwd1gyEE"
      },
      "execution_count": null,
      "outputs": []
    },
    {
      "cell_type": "code",
      "source": [
        "len(pages)"
      ],
      "metadata": {
        "id": "pOu73IBSg6d-"
      },
      "execution_count": null,
      "outputs": []
    },
    {
      "cell_type": "code",
      "source": [
        "import pandas as pd\n",
        "df = pd.DataFrame(\n",
        "    {'page_no': range(1, len(pages)+1),\n",
        "     'original_content': pages,\n",
        "    })\n",
        "df.head()"
      ],
      "metadata": {
        "id": "BU4zcKICg9cS"
      },
      "execution_count": null,
      "outputs": []
    },
    {
      "cell_type": "code",
      "source": [
        "df.tail()"
      ],
      "metadata": {
        "id": "mQDvLuDFhAur"
      },
      "execution_count": null,
      "outputs": []
    },
    {
      "cell_type": "code",
      "source": [
        "print(df['original_content'].loc[83])"
      ],
      "metadata": {
        "id": "uDcuxDxhhFpb"
      },
      "execution_count": null,
      "outputs": []
    },
    {
      "cell_type": "markdown",
      "source": [
        "# Remove unwanted pages (Index, appendix etc)"
      ],
      "metadata": {
        "id": "LH6d8pJ4hQs0"
      }
    },
    {
      "cell_type": "code",
      "source": [
        "not_required_pages = []\n",
        "\n",
        "# Index\n",
        "not_required_pages.extend(range(1,7))\n",
        "not_required_pages.extend([292, 293, 340, 395, 429, 430, 431, 432, 505, 506, 507, 508, 509, ])\n",
        "\n",
        "# References and images\n",
        "not_required_pages.extend(range(554, 587))\n",
        "\n",
        "# Testing report form\n",
        "not_required_pages.extend([117, 118, 119, 126, 127, 128, 129])\n",
        "\n",
        "# Bibliography\n",
        "not_required_pages.extend(range(131, 138))\n",
        "\n",
        "# Water Body Classifications in State\n",
        "not_required_pages.extend(range(180, 198))\n",
        "\n",
        "# Allowance for Facilities Planning and Design\n",
        "not_required_pages.extend([240, 241])\n",
        "\n",
        "# Addresses\n",
        "not_required_pages.extend([265, 266, 267])\n",
        "\n",
        "# not_required_pages"
      ],
      "metadata": {
        "id": "JoHD6fithLWe"
      },
      "execution_count": null,
      "outputs": []
    },
    {
      "cell_type": "code",
      "source": [
        "df = df[~df.page_no.isin(not_required_pages)].copy()"
      ],
      "metadata": {
        "id": "LnV7fT4ehWzZ"
      },
      "execution_count": null,
      "outputs": []
    },
    {
      "cell_type": "code",
      "source": [
        "page7_str = df.loc[6, 'original_content']\n",
        "df.loc[6, 'original_content'] = page7_str[page7_str.index('Subchapter 1 Wastewater Permit Regulations'):]\n",
        "df.loc[6, 'original_content']"
      ],
      "metadata": {
        "id": "WBbbT8WNhbZR"
      },
      "execution_count": null,
      "outputs": []
    },
    {
      "cell_type": "code",
      "source": [
        "df.head()"
      ],
      "metadata": {
        "id": "YGEK3-rBiF7S"
      },
      "execution_count": null,
      "outputs": []
    },
    {
      "cell_type": "code",
      "source": [
        "df.tail()"
      ],
      "metadata": {
        "id": "bio-MitDiMW7"
      },
      "execution_count": null,
      "outputs": []
    },
    {
      "cell_type": "markdown",
      "source": [
        "# Clean page breaks and page numbers from footer.\n",
        "\n",
        "Clean bullet points  1., 2., 3.,.. (1), (2), (3),... (a), (b), (c), A., B., C.,"
      ],
      "metadata": {
        "id": "vvnOwUDeiUZG"
      }
    },
    {
      "cell_type": "code",
      "source": [
        "df['clean_content'] = df.original_content.apply(lambda x: re.sub(r\"[0-9]+\\n\\x0c\", \"\", x).rstrip())"
      ],
      "metadata": {
        "id": "ZsFEycFBiokV"
      },
      "execution_count": null,
      "outputs": []
    },
    {
      "cell_type": "code",
      "source": [
        "print(df['clean_content'].loc[83])"
      ],
      "metadata": {
        "colab": {
          "base_uri": "https://localhost:8080/"
        },
        "id": "JqBxxnB0iqPF",
        "outputId": "3e8e5a43-5015-4c9d-e378-212db2ab454d"
      },
      "execution_count": null,
      "outputs": [
        {
          "output_type": "stream",
          "name": "stdout",
          "text": [
            "             (i)     The Linear Partition Coefficient is calculated from Table 5-\n",
            "                     4 in the Technical Guidance Manual using the following\n",
            "                     formula:\n",
            "\n",
            "                        K p = K po * TSS a\n",
            "\n",
            "      Where: Kp    = Linear Partition Coefficient\n",
            "      Kpo = Regression Coefficient (from table)\n",
            "      TSS = Total Suspended Solids Concentration (site specific 15th\n",
            "              percentile)\n",
            "      a     = Exponent Constant (from table)\n",
            "\n",
            "             (ii)    The Dissolved Fraction is then calculated as follows:\n",
            "\n",
            "                    C            1\n",
            "                      =\n",
            "                    CT 1 + K p * TSS *10 −6\n",
            "\n",
            "      Where: C/CT = Dissolved Fraction of metal\n",
            "\n",
            "      (2)    Alternately, the permittee may determine the dissolved fraction\n",
            "             directly by analyzing paired samples of site water for dissolved and\n",
            "             total recoverable metals using EPA's \"clean\" analytical techniques\n",
            "             and sampling procedures. This determination may be made in one\n",
            "             of two ways.\n",
            "\n",
            "             (i)     Collect four paired samples during the low flow period,\n",
            "                     defined as no greater than twice the 7Q10, analyze paired\n",
            "                     samples of site water for dissolved and total recoverable\n",
            "                     metals using EPA's \"clean \" analytical techniques and\n",
            "                     sampling procedures, take the arithmetic mean of the four\n",
            "                     analyses, and calculate the dissolved fraction based on the\n",
            "                     mean values for dissolved and total recoverable metals.\n",
            "\n",
            "             (ii)    Collect 20 paired samples on randomly selected dates\n",
            "                     throughout the year, analyze as described in (2)(i) above,\n",
            "                     calculate the dissolved fraction for each sampling, and use\n",
            "                     the 95th percentile highest dissolved fraction.\n",
            "\n",
            "      (3)    The permittee is responsible for providing all the site specific data\n",
            "             needed for these calculations.\n",
            "\n",
            "(c)   The third method is to assume that there is no difference between the\n",
            "      dissolved and total recoverable metals concentrations.\n"
          ]
        }
      ]
    },
    {
      "cell_type": "code",
      "source": [
        "p1 = re.compile(r\"^[A-Z]\\. (.*)$\")\n",
        "p2 = re.compile(r\"^[0-9]+\\. (.*)$\")\n",
        "p3 = re.compile(r\"^\\([a-zA-Z]\\) (.*)$\")\n",
        "p4 = re.compile(r\"^\\([0-9]+\\) (.*)$\")\n",
        "p5 = re.compile(r\"^\\((i|ii|iii|iv|v|vi|vii|viii|ix|x)\\) (.*)$\")\n",
        "p6 = re.compile(r\"(?i)^Appendix ?[A-Z] (.*)$\")\n",
        "p7 = re.compile(r\"^[a-z]  (.*)$\")\n",
        "\n",
        "def clean_bullet(x):\n",
        "  lines = x.split('\\n')\n",
        "  new_lines = []\n",
        "  for line in lines:\n",
        "    new_line = p1.sub(r\"\\1\", line.strip()).strip()\n",
        "    new_line = p2.sub(r\"\\1\", new_line).strip()\n",
        "    new_line = p3.sub(r\"\\1\", new_line).strip()\n",
        "    new_line = p4.sub(r\"\\1\", new_line).strip()\n",
        "    new_line = p5.sub(r\"\\2\", new_line).strip()\n",
        "    new_line = p6.sub(r\"\\1\", new_line).strip()\n",
        "    new_line = p7.sub(r\"\\1\", new_line).strip()\n",
        "    if new_line:\n",
        "      new_lines.append(new_line)\n",
        "\n",
        "  return '\\n'.join(new_lines)\n",
        "\n",
        "df['clean_content'] = df.clean_content.apply(clean_bullet)"
      ],
      "metadata": {
        "id": "IWJiFlh3iQJD"
      },
      "execution_count": null,
      "outputs": []
    },
    {
      "cell_type": "code",
      "source": [
        "print(df['clean_content'].loc[99])"
      ],
      "metadata": {
        "colab": {
          "base_uri": "https://localhost:8080/"
        },
        "id": "-25k5TVkiyWy",
        "outputId": "3b9db1da-a09d-4ba6-8475-5f7a6e42a76f"
      },
      "execution_count": null,
      "outputs": [
        {
          "output_type": "stream",
          "name": "stdout",
          "text": [
            "O'Conner-Dobbins equation may be used for streams with depths greater than 5 feet and\n",
            "where there are adequate stream depth profiles or reasonable estimates available. If stream flow\n",
            "is less than 280 cfs, Tsivoglou escape coefficient values should be considered.\n",
            "12 .9 *V 0.5\n",
            "Ka =\n",
            "D1.5\n",
            "where:\n",
            "V      = velocity in ft./sec.\n",
            "D      = depth in ft.\n",
            "Ka     = reaeration rate 1/day (base e @ 20°C).\n",
            "A minimum Ka value of 0.15/day will be used except in the case mentioned under Kd\n",
            "where Ka/Kd is not less than 2.\n",
            "In the WASP model COVAR may be considered.\n",
            "Stream Background Conditions\n",
            "Assume the following stream background conditions unless data show otherwise.\n",
            "DO = 85% of saturation at assumed stream temperature (table attached)\n",
            "CBODU = 2.0 mg/l\n",
            "CBOD5 = 1.33 mg/l\n",
            "NBODU = 0.5 mg/l\n",
            "NH3-N = 0.10 mg/l\n",
            "Photosynthesis / Respiration\n",
            "Input values for P and R (mg/l/day) can be determined in stream studies using the:\n",
            "Delta Method\n",
            "Diurnal Curve Method\n",
            "Light/Dark Bottle Method\n",
            "In the absence of field data, P and R will be assumed to be 0.0 mg/l/day.             This\n",
            "assumption will be reevaluated for streams dominated by algae.\n",
            "Sediment Oxygen Demand\n"
          ]
        }
      ]
    },
    {
      "cell_type": "markdown",
      "source": [
        "# Read chemical names\n"
      ],
      "metadata": {
        "id": "ryNPbeyCi6Zs"
      }
    },
    {
      "cell_type": "code",
      "source": [
        "for page in [172, 173]:\n",
        "  print(df['original_content'].loc[page])\n",
        "  print()"
      ],
      "metadata": {
        "colab": {
          "base_uri": "https://localhost:8080/"
        },
        "id": "n-7OSbCki5dc",
        "outputId": "dadbd052-fbde-4ced-bd3f-193a7bbc2aae"
      },
      "execution_count": null,
      "outputs": [
        {
          "output_type": "stream",
          "name": "stdout",
          "text": [
            "                                                          TABLE 2\n",
            "                                             Numeric Criteria for All Waters (µg/l)\n",
            "\n",
            "\n",
            "                                                         Fresh Water                Salt Water             Human Health\n",
            " CAS j               Parameter                    Acute         Chronic      Acute         Chronic     Organisms    Water &\n",
            "                                                                                                          Only     Organisms\n",
            " 309002    Aldrin                                  3.0                        1.3                       0.000050    0.000049\n",
            "                                                     f                f         f                f\n",
            "7664417    Ammonia\n",
            "7440382    Arsenic (III), Total Dissolved         340 e           150 e        69                36\n",
            "7440382    Arsenic, Total Dissolved                                                                       24h        0.078h\n",
            "7440439    Cadmium, Total Dissolved              1.03 b,e        0.15 b,e      40             8.8         168           5\n",
            "  57749    Chlordane                               2.4           0.0043       0.09           0.004      0.00081     0.00080\n",
            "7782505    Chlorine                                19              11          13             7.5\n",
            "18540299   Chromium (Hex), Total                   16 e           11 e       1100                50      1470         98\n",
            "           Dissolved\n",
            "16065831   Chromium (III), Total Dissolved        323 b,e        42 b,e                                 140468         100\n",
            " 7440508   Copper, Total Dissolved                7.0 b,e        5.0 b,e       4.8            3.1        1000         1300\n",
            "   57125   Cyanide                                22.0 g         5.2 g        1.0 g          1.0 g        140          140\n",
            "   50293   4,4 DDT                                  1.1          0.001        0.13           0.001      0.00022     0.00022\n",
            "   60571   Dieldrin                                0.24          0.056        0.71          0.0019     0.000054    0.000052\n",
            " 1746016   2,3,7,8 TCDD (Dioxin)                                                                       51 x 10-9   50 x 10 -9\n",
            "  959988   alpha-Endosulfan                       0.22 i         0.056 i     0.034 i        0.0087 i       89          62j\n",
            "33213659   beta-Endosulfan                        0.22 i         0.056 i     0.034 i        0.0087 i       89j          62\n",
            " 1031078   Endosulfan Sulfate                                                                              89j         62j\n",
            "   72208   Endrin                                 0.086           0.036      0.037          0.0023       0.060       0.059\n",
            "   76448   Heptachlor                              0.52          0.0038      0.053          0.0036     0.000079    00.00079\n",
            "\n",
            "\n",
            "                                                                173\n",
            "\f\n",
            "\n",
            "                                               Fresh Water            Salt Water           Human Health\n",
            " CAS j               Parameter             Acute      Chronic      Acute     Chronic   Organisms    Water &\n",
            "                                                                                         Only      Organisms\n",
            "  58899   gamma-BHC (Lindane)              0.95          0.08      0.16                   1.8        0.98\n",
            "7439921   Lead, Total Dissolved            30 b,e      1.18 b,e    210          8.1                   15\n",
            "7439976   Mercury (II), Total Dissolved    2.1e         0.012       1.8        0.025\n",
            "7439976   Mercury                                                                        0.153       0.151\n",
            "                                               b,e           b,e\n",
            "7440020   Nickel, Total Dissolved          260          29          75          8.3       4600        610\n",
            " 108952   Phenol                             300         102       300          58      860000       10000\n",
            "  87865   Pentachlorophenol                 8.7 c       6.7 c      13 c        7.9 c       3.0        0.27\n",
            "          Total PCB                         0.02k      0.014k      1.0k        0.03k   0.000064k   0.000064k\n",
            "7782492   Selenium, Total Dissolved       11.8 a,e      4.6 e      290 e        71 e      4200        170\n",
            "7440224   Silver, Total Dissolved          0.98 b,f                 1.9                               100\n",
            "8001352   Toxaphene                         0.73       0.0002      0.21       0.0002    0.00028     0.00028\n",
            "7440666   Zinc, Total Dissolved             65 b,e      65 b,e      90          81       26,000      7,400\n",
            "\n",
            "\n",
            "\n",
            "\n",
            "                                                      174\n",
            "\f\n",
            "\n"
          ]
        }
      ]
    },
    {
      "cell_type": "code",
      "source": [
        "chemical_dict={}\n",
        "chemical_dict['Aldrin'] = ['Aldrin']\n",
        "chemical_dict['Chlordane'] = ['Chlordane']\n",
        "chemical_dict['DDT'] = ['Dichlorodiphenyltrichloroethane', 'C14H9Cl5']\n",
        "chemical_dict['Dieldrin'] = ['Dieldrin']\n",
        "chemical_dict['Dioxin'] = ['TCDD']\n",
        "chemical_dict['Endrin'] = ['Endrin']\n",
        "chemical_dict['Heptachlor'] = ['Heptachlor']\n",
        "chemical_dict['Lindane'] = ['BHC']\n",
        "chemical_dict['Phenol'] = ['C6H6O']\n",
        "chemical_dict['Pentachlorophenol'] = ['Pentachlorophenol', 'PCB']\n",
        "chemical_dict['Toxaphene'] = ['Toxaphene']\n",
        "chemical_dict['CBOD'] = ['Carbonaceous biochemical oxygen demand', 'CBODU']\n",
        "chemical_dict['NBOD'] = ['Nitrogenous biochemical oxygen demand', 'NBODU']\n",
        "chemical_dict['BOD'] = ['Biochemical oxygen demand', 'BOD']\n",
        "\n",
        "#Water Data CSV\n",
        "chemical_dict['Nitrogen'] = ['N', 'TN', 'TKN']\n",
        "chemical_dict['Ammonia'] = ['NH3']\n",
        "chemical_dict['Nitrite'] = ['NO2']\n",
        "chemical_dict['Nitrate'] = ['NO3']\n",
        "chemical_dict['Phosphorus'] = ['P', 'TP']\n",
        "chemical_dict['Oxygen'] = ['O', 'DO']\n",
        "chemical_dict['ph'] = ['PH']\n",
        "chemical_dict['Alkalinity'] = ['CACO3', 'BICARBONATE', 'CARBONATE']\n",
        "chemical_dict['Arsenic'] = ['AS']\n",
        "chemical_dict['Cadmium'] = ['Cd']\n",
        "chemical_dict['Carbon'] = ['C', 'TOC']\n",
        "chemical_dict['Chlorine'] = ['Cl', 'Chloride']\n",
        "chemical_dict['Chlorophyll'] = ['CHLA', 'CHLAC']\n",
        "chemical_dict['Chromium'] = ['CR']\n",
        "chemical_dict['Copper'] = ['CU']\n",
        "chemical_dict['Fluoride'] = ['F']\n",
        "chemical_dict['Iron'] = ['FE']\n",
        "chemical_dict['Lead'] = ['PB']\n",
        "chemical_dict['Magnesium'] = ['MG']\n",
        "chemical_dict['Nickel'] = ['NI']\n",
        "chemical_dict['Pheophytin'] = ['PHEO']\n",
        "chemical_dict['Potassium'] = ['K']\n",
        "chemical_dict['Silver'] = ['AG']\n",
        "chemical_dict['Sodium'] = ['NA']\n",
        "chemical_dict['Sulphate'] = ['SO4', 'SULFUR', 'Sulfate']\n",
        "chemical_dict['Zinc'] = ['ZN']\n",
        "chemical_dict['Salinity'] = ['SALINITY']\n",
        "chemical_dict['Aluminium'] = ['AL', 'Aluminium', 'Aluminum']\n",
        "chemical_dict['Antimony'] = ['SB']\n",
        "chemical_dict['Barium'] = ['BA']\n",
        "chemical_dict['Boron'] = ['B']\n",
        "chemical_dict['Diuron'] = ['DI']\n",
        "chemical_dict['Linuron'] = ['LINURON']\n",
        "chemical_dict['Mecoprop'] = ['BA']\n",
        "chemical_dict['Glyphosate'] = ['GLYPHOSATE']\n",
        "chemical_dict['Selenium'] = ['SE']\n",
        "chemical_dict['Sucralose'] = ['SU']\n",
        "chemical_dict['Thallium'] = ['TL']\n",
        "chemical_dict['Manganese'] = ['MN']\n",
        "chemical_dict['Calcium'] = ['CA']\n",
        "chemical_dict['Silica'] = ['SI']\n",
        "\n",
        "#FromWHO Book 4th Edition\n",
        "chemical_dict['Asbestos'] = ['Chrysotile']\n",
        "chemical_dict['Bentazone'] = ['Bentazone']\n",
        "chemical_dict['Beryllium'] = ['Beryllium', 'BE']\n",
        "chemical_dict['Bromide'] = ['BR']\n",
        "chemical_dict['Bromochloroacetate'] = ['Bromochloroacetate']\n",
        "chemical_dict['Carbaryl'] = ['Carbaryl']\n",
        "chemical_dict['Chloralhydrate'] = ['Chloral hydrate']\n",
        "chemical_dict['Chlorine dioxide'] = ['clo2']\n",
        "chemical_dict['Chloroacetone'] = ['Chloroacetone']\n",
        "chemical_dict['Chloropicrin'] = ['Chloropicrin']\n",
        "chemical_dict['Cyanide'] = ['CN',]\n",
        "chemical_dict['Cyanogen chloride'] = ['Cyanogen chloride']\n",
        "chemical_dict['Dibromoacetate'] = ['Dibromoacetate']\n",
        "chemical_dict['Dichloramine'] = ['NHCl2']\n",
        "chemical_dict['Dichlorobenzene'] = ['C6H4Cl2']\n",
        "chemical_dict['Dichloroethane'] = ['C2H4Cl2']\n",
        "chemical_dict['Dichloroethene'] = ['C2H2Cl2']\n",
        "chemical_dict['Dichlorophenol'] = ['C6H4Cl2O']\n",
        "chemical_dict['Dichloropropane'] = ['C3H6Cl2']\n",
        "chemical_dict['Dicofol'] = ['Dicofol']\n",
        "chemical_dict['Diflubenzuron'] = ['Diflubenzuron']\n",
        "chemical_dict['Endosulfan'] = ['Endosulfan']\n",
        "chemical_dict['Fenitrothion'] = ['Fenitrothion']\n",
        "chemical_dict['Fluoranthene'] = ['Fluoranthene']\n",
        "chemical_dict['Formaldehyde'] = ['Formaldehyde']\n",
        "chemical_dict['Hexachlorobenzene'] = ['C6Cl6']\n",
        "chemical_dict['Hydrogen sulfide'] = ['H2S']\n",
        "chemical_dict['Iodine'] = ['I']\n",
        "chemical_dict['Malathion'] = ['Malathion']\n",
        "chemical_dict['MCPA'] = ['MCPA']\n",
        "chemical_dict['Molybdenum'] = ['Mo']\n",
        "chemical_dict['Nitrobenzene'] = ['Nitrobenzene']\n",
        "chemical_dict['Phenylphenol'] = ['C12H10O']\n",
        "chemical_dict['Trichloramine'] = ['NCl3']\n",
        "chemical_dict['Acrylamide'] = ['C3H5NO']\n",
        "chemical_dict['benzene'] = ['C6H6']\n",
        "chemical_dict['Bromate'] = ['bro3']\n",
        "chemical_dict['Bromodichloromethane'] = ['MCPA']\n",
        "chemical_dict['Bromoform'] = ['CHBr3']\n",
        "chemical_dict['Carbon tetrachloride'] = ['CCL4']\n",
        "chemical_dict['Chlorate'] = ['CLO3']\n",
        "chemical_dict['Chlorite'] = ['CLO2']\n",
        "chemical_dict['Chloroform'] = ['CHCl3']\n",
        "chemical_dict['Cyanazine'] = ['Cyanazine']\n",
        "chemical_dict['Dichloroacetate'] = ['Dichloroacetate']\n",
        "chemical_dict['Dibromoethane'] = ['Dibromoethane']\n",
        "chemical_dict['Dichloromethane'] = ['CH2Cl2']\n",
        "chemical_dict['Dimethoate'] = ['Dimethoate']\n",
        "chemical_dict['Dioxane'] = ['Dioxane']\n",
        "chemical_dict['Ethylbenzene'] = ['C8H10']\n",
        "chemical_dict['Hydroxyatrazine'] = ['Hydroxyatrazine']\n",
        "chemical_dict['Isoproturon'] = ['Isoproturon']\n",
        "chemical_dict['Lindane'] = ['c6h6cl6']\n",
        "chemical_dict['Mercury'] = ['Hg']\n",
        "chemical_dict['Metolachlor'] = ['Metolachlor']\n",
        "chemical_dict['Molinate'] = ['Molinate']\n",
        "chemical_dict['Monochloramine'] = ['NH2Cl']\n",
        "chemical_dict['Monochloroacetate'] = ['Monochloroacetate']\n",
        "chemical_dict['Cyanuric acid'] = ['Sodium dichloroisocyanurate', 'C3H3N3O3']\n",
        "chemical_dict['Styrene'] = ['C8H8']\n",
        "chemical_dict['Tetrachloroethene'] = ['C2Cl4']\n",
        "chemical_dict['Toluene'] = ['C7H8']\n",
        "chemical_dict['Trichloroacetate'] = ['Trichloroacetate']\n",
        "chemical_dict['Trichloroethene'] = ['Trichloroethene']\n",
        "chemical_dict['Trichlorophenol'] = ['Trichlorophenol']\n",
        "chemical_dict['Trifluralin'] = ['Trifluralin']\n",
        "chemical_dict['Trihalomethanes'] = ['THM']\n",
        "chemical_dict['Uranium'] = ['U']\n",
        "chemical_dict['Vinyl chloride'] = ['C2H3Cl']\n",
        "chemical_dict['Xylene'] = ['Xylene', 'Xylenes', 'C8H10']"
      ],
      "metadata": {
        "id": "LUJZlfPzjBsl"
      },
      "execution_count": null,
      "outputs": []
    },
    {
      "cell_type": "code",
      "source": [
        "from collections import OrderedDict\n",
        "def get_counts(x, full_only=False):\n",
        "  x = x.upper()\n",
        "  d = OrderedDict()\n",
        "\n",
        "  for chemical, vals in chemical_dict.items():\n",
        "    if full_only:\n",
        "      counts = len(re.findall(r'\\b'+chemical.upper()+r'\\b', x))\n",
        "    else:\n",
        "      counts = len(re.findall(r'\\b('+chemical.upper()+'|'+'|'.join([val.upper() for val in vals])+r')\\b', x))\n",
        "    d[chemical] = counts\n",
        "\n",
        "  return pd.Series(d)\n",
        "\n",
        "counts_df_full_only = df.clean_content.apply(get_counts, full_only=True)\n",
        "counts_df_all = df.clean_content.apply(get_counts, full_only=False)"
      ],
      "metadata": {
        "id": "Mb69OynjjpXj"
      },
      "execution_count": null,
      "outputs": []
    },
    {
      "cell_type": "code",
      "source": [
        "counts_df_full_only['Ammonia'].head()"
      ],
      "metadata": {
        "colab": {
          "base_uri": "https://localhost:8080/"
        },
        "id": "44x11C7qjwZa",
        "outputId": "3ace236b-a37c-4c5d-c7f7-99ed2da7a6d7"
      },
      "execution_count": null,
      "outputs": [
        {
          "output_type": "execute_result",
          "data": {
            "text/plain": [
              "0    0\n",
              "1    0\n",
              "2    0\n",
              "3    0\n",
              "4    1\n",
              "Name: Ammonia, dtype: int64"
            ]
          },
          "metadata": {},
          "execution_count": 14
        }
      ]
    },
    {
      "cell_type": "code",
      "source": [
        "df.loc[counts_df_full_only[counts_df_full_only.Ammonia>0].index]"
      ],
      "metadata": {
        "colab": {
          "base_uri": "https://localhost:8080/",
          "height": 426
        },
        "id": "nXxrYn18mKD7",
        "outputId": "d2c1d77a-7ff9-4884-c485-c6d2c02c436c"
      },
      "execution_count": null,
      "outputs": [
        {
          "output_type": "execute_result",
          "data": {
            "text/plain": [
              "     page_no                                   original_content  \\\n",
              "4          5  Rule 1.2.7 Bibliography\\n\\nExhibit A to Chapte...   \n",
              "76        77         (4)     some oxygen demanding wastewate...   \n",
              "79        80         (2)     Alternative methods may be util...   \n",
              "102      103                                                ...   \n",
              "103      104  Final ammonia allocations will be reported as ...   \n",
              "165      166               toxicity will be determined in ac...   \n",
              "171      172                                           TABLE...   \n",
              "172      173                                                ...   \n",
              "177      178  E.   EPHEMERAL STREAM CLASSIFICATION:\\n\\n     ...   \n",
              "481      482       Ephemeral                                ...   \n",
              "482      483         use, etc. In calculation of \"equivalent...   \n",
              "483      484                              This ammonia excee...   \n",
              "\n",
              "                                         clean_content  \n",
              "4    Rule 1.2.7 Bibliography\\nExhibit A to Chapter ...  \n",
              "76   some oxygen demanding wastewaters, other than ...  \n",
              "79   Alternative methods may be utilized to determi...  \n",
              "102  Acute     Chronic\\nFresh          19         1...  \n",
              "103  Final ammonia allocations will be reported as ...  \n",
              "165  toxicity will be determined in accordance with...  \n",
              "171  TABLE 2 Notes\\nThe CMC = 1/[(f1/CMC1) + (f2/CM...  \n",
              "172  TABLE 2\\nNumeric Criteria for All Waters (µg/l...  \n",
              "177  EPHEMERAL STREAM CLASSIFICATION:\\nWaters in th...  \n",
              "481  Ephemeral                                     ...  \n",
              "482  use, etc. In calculation of \"equivalent stream...  \n",
              "483  This ammonia exceedance is then multiplied by ...  "
            ],
            "text/html": [
              "\n",
              "  <div id=\"df-8d0e40a0-2be8-41d7-8c18-5adc446b1112\">\n",
              "    <div class=\"colab-df-container\">\n",
              "      <div>\n",
              "<style scoped>\n",
              "    .dataframe tbody tr th:only-of-type {\n",
              "        vertical-align: middle;\n",
              "    }\n",
              "\n",
              "    .dataframe tbody tr th {\n",
              "        vertical-align: top;\n",
              "    }\n",
              "\n",
              "    .dataframe thead th {\n",
              "        text-align: right;\n",
              "    }\n",
              "</style>\n",
              "<table border=\"1\" class=\"dataframe\">\n",
              "  <thead>\n",
              "    <tr style=\"text-align: right;\">\n",
              "      <th></th>\n",
              "      <th>page_no</th>\n",
              "      <th>original_content</th>\n",
              "      <th>clean_content</th>\n",
              "    </tr>\n",
              "  </thead>\n",
              "  <tbody>\n",
              "    <tr>\n",
              "      <th>4</th>\n",
              "      <td>5</td>\n",
              "      <td>Rule 1.2.7 Bibliography\\n\\nExhibit A to Chapte...</td>\n",
              "      <td>Rule 1.2.7 Bibliography\\nExhibit A to Chapter ...</td>\n",
              "    </tr>\n",
              "    <tr>\n",
              "      <th>76</th>\n",
              "      <td>77</td>\n",
              "      <td>(4)     some oxygen demanding wastewate...</td>\n",
              "      <td>some oxygen demanding wastewaters, other than ...</td>\n",
              "    </tr>\n",
              "    <tr>\n",
              "      <th>79</th>\n",
              "      <td>80</td>\n",
              "      <td>(2)     Alternative methods may be util...</td>\n",
              "      <td>Alternative methods may be utilized to determi...</td>\n",
              "    </tr>\n",
              "    <tr>\n",
              "      <th>102</th>\n",
              "      <td>103</td>\n",
              "      <td>...</td>\n",
              "      <td>Acute     Chronic\\nFresh          19         1...</td>\n",
              "    </tr>\n",
              "    <tr>\n",
              "      <th>103</th>\n",
              "      <td>104</td>\n",
              "      <td>Final ammonia allocations will be reported as ...</td>\n",
              "      <td>Final ammonia allocations will be reported as ...</td>\n",
              "    </tr>\n",
              "    <tr>\n",
              "      <th>165</th>\n",
              "      <td>166</td>\n",
              "      <td>toxicity will be determined in ac...</td>\n",
              "      <td>toxicity will be determined in accordance with...</td>\n",
              "    </tr>\n",
              "    <tr>\n",
              "      <th>171</th>\n",
              "      <td>172</td>\n",
              "      <td>TABLE...</td>\n",
              "      <td>TABLE 2 Notes\\nThe CMC = 1/[(f1/CMC1) + (f2/CM...</td>\n",
              "    </tr>\n",
              "    <tr>\n",
              "      <th>172</th>\n",
              "      <td>173</td>\n",
              "      <td>...</td>\n",
              "      <td>TABLE 2\\nNumeric Criteria for All Waters (µg/l...</td>\n",
              "    </tr>\n",
              "    <tr>\n",
              "      <th>177</th>\n",
              "      <td>178</td>\n",
              "      <td>E.   EPHEMERAL STREAM CLASSIFICATION:\\n\\n     ...</td>\n",
              "      <td>EPHEMERAL STREAM CLASSIFICATION:\\nWaters in th...</td>\n",
              "    </tr>\n",
              "    <tr>\n",
              "      <th>481</th>\n",
              "      <td>482</td>\n",
              "      <td>Ephemeral                                ...</td>\n",
              "      <td>Ephemeral                                     ...</td>\n",
              "    </tr>\n",
              "    <tr>\n",
              "      <th>482</th>\n",
              "      <td>483</td>\n",
              "      <td>use, etc. In calculation of \"equivalent...</td>\n",
              "      <td>use, etc. In calculation of \"equivalent stream...</td>\n",
              "    </tr>\n",
              "    <tr>\n",
              "      <th>483</th>\n",
              "      <td>484</td>\n",
              "      <td>This ammonia excee...</td>\n",
              "      <td>This ammonia exceedance is then multiplied by ...</td>\n",
              "    </tr>\n",
              "  </tbody>\n",
              "</table>\n",
              "</div>\n",
              "      <button class=\"colab-df-convert\" onclick=\"convertToInteractive('df-8d0e40a0-2be8-41d7-8c18-5adc446b1112')\"\n",
              "              title=\"Convert this dataframe to an interactive table.\"\n",
              "              style=\"display:none;\">\n",
              "        \n",
              "  <svg xmlns=\"http://www.w3.org/2000/svg\" height=\"24px\"viewBox=\"0 0 24 24\"\n",
              "       width=\"24px\">\n",
              "    <path d=\"M0 0h24v24H0V0z\" fill=\"none\"/>\n",
              "    <path d=\"M18.56 5.44l.94 2.06.94-2.06 2.06-.94-2.06-.94-.94-2.06-.94 2.06-2.06.94zm-11 1L8.5 8.5l.94-2.06 2.06-.94-2.06-.94L8.5 2.5l-.94 2.06-2.06.94zm10 10l.94 2.06.94-2.06 2.06-.94-2.06-.94-.94-2.06-.94 2.06-2.06.94z\"/><path d=\"M17.41 7.96l-1.37-1.37c-.4-.4-.92-.59-1.43-.59-.52 0-1.04.2-1.43.59L10.3 9.45l-7.72 7.72c-.78.78-.78 2.05 0 2.83L4 21.41c.39.39.9.59 1.41.59.51 0 1.02-.2 1.41-.59l7.78-7.78 2.81-2.81c.8-.78.8-2.07 0-2.86zM5.41 20L4 18.59l7.72-7.72 1.47 1.35L5.41 20z\"/>\n",
              "  </svg>\n",
              "      </button>\n",
              "      \n",
              "  <style>\n",
              "    .colab-df-container {\n",
              "      display:flex;\n",
              "      flex-wrap:wrap;\n",
              "      gap: 12px;\n",
              "    }\n",
              "\n",
              "    .colab-df-convert {\n",
              "      background-color: #E8F0FE;\n",
              "      border: none;\n",
              "      border-radius: 50%;\n",
              "      cursor: pointer;\n",
              "      display: none;\n",
              "      fill: #1967D2;\n",
              "      height: 32px;\n",
              "      padding: 0 0 0 0;\n",
              "      width: 32px;\n",
              "    }\n",
              "\n",
              "    .colab-df-convert:hover {\n",
              "      background-color: #E2EBFA;\n",
              "      box-shadow: 0px 1px 2px rgba(60, 64, 67, 0.3), 0px 1px 3px 1px rgba(60, 64, 67, 0.15);\n",
              "      fill: #174EA6;\n",
              "    }\n",
              "\n",
              "    [theme=dark] .colab-df-convert {\n",
              "      background-color: #3B4455;\n",
              "      fill: #D2E3FC;\n",
              "    }\n",
              "\n",
              "    [theme=dark] .colab-df-convert:hover {\n",
              "      background-color: #434B5C;\n",
              "      box-shadow: 0px 1px 3px 1px rgba(0, 0, 0, 0.15);\n",
              "      filter: drop-shadow(0px 1px 2px rgba(0, 0, 0, 0.3));\n",
              "      fill: #FFFFFF;\n",
              "    }\n",
              "  </style>\n",
              "\n",
              "      <script>\n",
              "        const buttonEl =\n",
              "          document.querySelector('#df-8d0e40a0-2be8-41d7-8c18-5adc446b1112 button.colab-df-convert');\n",
              "        buttonEl.style.display =\n",
              "          google.colab.kernel.accessAllowed ? 'block' : 'none';\n",
              "\n",
              "        async function convertToInteractive(key) {\n",
              "          const element = document.querySelector('#df-8d0e40a0-2be8-41d7-8c18-5adc446b1112');\n",
              "          const dataTable =\n",
              "            await google.colab.kernel.invokeFunction('convertToInteractive',\n",
              "                                                     [key], {});\n",
              "          if (!dataTable) return;\n",
              "\n",
              "          const docLinkHtml = 'Like what you see? Visit the ' +\n",
              "            '<a target=\"_blank\" href=https://colab.research.google.com/notebooks/data_table.ipynb>data table notebook</a>'\n",
              "            + ' to learn more about interactive tables.';\n",
              "          element.innerHTML = '';\n",
              "          dataTable['output_type'] = 'display_data';\n",
              "          await google.colab.output.renderOutput(dataTable, element);\n",
              "          const docLink = document.createElement('div');\n",
              "          docLink.innerHTML = docLinkHtml;\n",
              "          element.appendChild(docLink);\n",
              "        }\n",
              "      </script>\n",
              "    </div>\n",
              "  </div>\n",
              "  "
            ]
          },
          "metadata": {},
          "execution_count": 15
        }
      ]
    },
    {
      "cell_type": "code",
      "source": [
        "df.loc[counts_df_all[counts_df_all.Ammonia>0].index]"
      ],
      "metadata": {
        "colab": {
          "base_uri": "https://localhost:8080/",
          "height": 520
        },
        "id": "bjUZQpGmmNeR",
        "outputId": "be1d7e24-a56e-4fcc-c021-e08e674517b6"
      },
      "execution_count": null,
      "outputs": [
        {
          "output_type": "execute_result",
          "data": {
            "text/plain": [
              "     page_no                                   original_content  \\\n",
              "4          5  Rule 1.2.7 Bibliography\\n\\nExhibit A to Chapte...   \n",
              "76        77         (4)     some oxygen demanding wastewate...   \n",
              "79        80         (2)     Alternative methods may be util...   \n",
              "99       100  3.       O'Conner-Dobbins equation may be used...   \n",
              "100      101  1.      In the STREAM Model, sediment oxygen d...   \n",
              "102      103                                                ...   \n",
              "103      104  Final ammonia allocations will be reported as ...   \n",
              "165      166               toxicity will be determined in ac...   \n",
              "171      172                                           TABLE...   \n",
              "172      173                                                ...   \n",
              "177      178  E.   EPHEMERAL STREAM CLASSIFICATION:\\n\\n     ...   \n",
              "248      249              NH3-N, mg/l\\n            DO, mg/l\\...   \n",
              "481      482       Ephemeral                                ...   \n",
              "482      483         use, etc. In calculation of \"equivalent...   \n",
              "483      484                              This ammonia excee...   \n",
              "\n",
              "                                         clean_content  \n",
              "4    Rule 1.2.7 Bibliography\\nExhibit A to Chapter ...  \n",
              "76   some oxygen demanding wastewaters, other than ...  \n",
              "79   Alternative methods may be utilized to determi...  \n",
              "99   O'Conner-Dobbins equation may be used for stre...  \n",
              "100  In the STREAM Model, sediment oxygen demand (\"...  \n",
              "102  Acute     Chronic\\nFresh          19         1...  \n",
              "103  Final ammonia allocations will be reported as ...  \n",
              "165  toxicity will be determined in accordance with...  \n",
              "171  TABLE 2 Notes\\nThe CMC = 1/[(f1/CMC1) + (f2/CM...  \n",
              "172  TABLE 2\\nNumeric Criteria for All Waters (µg/l...  \n",
              "177  EPHEMERAL STREAM CLASSIFICATION:\\nWaters in th...  \n",
              "248  NH3-N, mg/l\\nDO, mg/l\\nResidual Cl2, mg/l\\nSS,...  \n",
              "481  Ephemeral                                     ...  \n",
              "482  use, etc. In calculation of \"equivalent stream...  \n",
              "483  This ammonia exceedance is then multiplied by ...  "
            ],
            "text/html": [
              "\n",
              "  <div id=\"df-9a8f6e2a-8ed3-47fa-88da-565899c17ff9\">\n",
              "    <div class=\"colab-df-container\">\n",
              "      <div>\n",
              "<style scoped>\n",
              "    .dataframe tbody tr th:only-of-type {\n",
              "        vertical-align: middle;\n",
              "    }\n",
              "\n",
              "    .dataframe tbody tr th {\n",
              "        vertical-align: top;\n",
              "    }\n",
              "\n",
              "    .dataframe thead th {\n",
              "        text-align: right;\n",
              "    }\n",
              "</style>\n",
              "<table border=\"1\" class=\"dataframe\">\n",
              "  <thead>\n",
              "    <tr style=\"text-align: right;\">\n",
              "      <th></th>\n",
              "      <th>page_no</th>\n",
              "      <th>original_content</th>\n",
              "      <th>clean_content</th>\n",
              "    </tr>\n",
              "  </thead>\n",
              "  <tbody>\n",
              "    <tr>\n",
              "      <th>4</th>\n",
              "      <td>5</td>\n",
              "      <td>Rule 1.2.7 Bibliography\\n\\nExhibit A to Chapte...</td>\n",
              "      <td>Rule 1.2.7 Bibliography\\nExhibit A to Chapter ...</td>\n",
              "    </tr>\n",
              "    <tr>\n",
              "      <th>76</th>\n",
              "      <td>77</td>\n",
              "      <td>(4)     some oxygen demanding wastewate...</td>\n",
              "      <td>some oxygen demanding wastewaters, other than ...</td>\n",
              "    </tr>\n",
              "    <tr>\n",
              "      <th>79</th>\n",
              "      <td>80</td>\n",
              "      <td>(2)     Alternative methods may be util...</td>\n",
              "      <td>Alternative methods may be utilized to determi...</td>\n",
              "    </tr>\n",
              "    <tr>\n",
              "      <th>99</th>\n",
              "      <td>100</td>\n",
              "      <td>3.       O'Conner-Dobbins equation may be used...</td>\n",
              "      <td>O'Conner-Dobbins equation may be used for stre...</td>\n",
              "    </tr>\n",
              "    <tr>\n",
              "      <th>100</th>\n",
              "      <td>101</td>\n",
              "      <td>1.      In the STREAM Model, sediment oxygen d...</td>\n",
              "      <td>In the STREAM Model, sediment oxygen demand (\"...</td>\n",
              "    </tr>\n",
              "    <tr>\n",
              "      <th>102</th>\n",
              "      <td>103</td>\n",
              "      <td>...</td>\n",
              "      <td>Acute     Chronic\\nFresh          19         1...</td>\n",
              "    </tr>\n",
              "    <tr>\n",
              "      <th>103</th>\n",
              "      <td>104</td>\n",
              "      <td>Final ammonia allocations will be reported as ...</td>\n",
              "      <td>Final ammonia allocations will be reported as ...</td>\n",
              "    </tr>\n",
              "    <tr>\n",
              "      <th>165</th>\n",
              "      <td>166</td>\n",
              "      <td>toxicity will be determined in ac...</td>\n",
              "      <td>toxicity will be determined in accordance with...</td>\n",
              "    </tr>\n",
              "    <tr>\n",
              "      <th>171</th>\n",
              "      <td>172</td>\n",
              "      <td>TABLE...</td>\n",
              "      <td>TABLE 2 Notes\\nThe CMC = 1/[(f1/CMC1) + (f2/CM...</td>\n",
              "    </tr>\n",
              "    <tr>\n",
              "      <th>172</th>\n",
              "      <td>173</td>\n",
              "      <td>...</td>\n",
              "      <td>TABLE 2\\nNumeric Criteria for All Waters (µg/l...</td>\n",
              "    </tr>\n",
              "    <tr>\n",
              "      <th>177</th>\n",
              "      <td>178</td>\n",
              "      <td>E.   EPHEMERAL STREAM CLASSIFICATION:\\n\\n     ...</td>\n",
              "      <td>EPHEMERAL STREAM CLASSIFICATION:\\nWaters in th...</td>\n",
              "    </tr>\n",
              "    <tr>\n",
              "      <th>248</th>\n",
              "      <td>249</td>\n",
              "      <td>NH3-N, mg/l\\n            DO, mg/l\\...</td>\n",
              "      <td>NH3-N, mg/l\\nDO, mg/l\\nResidual Cl2, mg/l\\nSS,...</td>\n",
              "    </tr>\n",
              "    <tr>\n",
              "      <th>481</th>\n",
              "      <td>482</td>\n",
              "      <td>Ephemeral                                ...</td>\n",
              "      <td>Ephemeral                                     ...</td>\n",
              "    </tr>\n",
              "    <tr>\n",
              "      <th>482</th>\n",
              "      <td>483</td>\n",
              "      <td>use, etc. In calculation of \"equivalent...</td>\n",
              "      <td>use, etc. In calculation of \"equivalent stream...</td>\n",
              "    </tr>\n",
              "    <tr>\n",
              "      <th>483</th>\n",
              "      <td>484</td>\n",
              "      <td>This ammonia excee...</td>\n",
              "      <td>This ammonia exceedance is then multiplied by ...</td>\n",
              "    </tr>\n",
              "  </tbody>\n",
              "</table>\n",
              "</div>\n",
              "      <button class=\"colab-df-convert\" onclick=\"convertToInteractive('df-9a8f6e2a-8ed3-47fa-88da-565899c17ff9')\"\n",
              "              title=\"Convert this dataframe to an interactive table.\"\n",
              "              style=\"display:none;\">\n",
              "        \n",
              "  <svg xmlns=\"http://www.w3.org/2000/svg\" height=\"24px\"viewBox=\"0 0 24 24\"\n",
              "       width=\"24px\">\n",
              "    <path d=\"M0 0h24v24H0V0z\" fill=\"none\"/>\n",
              "    <path d=\"M18.56 5.44l.94 2.06.94-2.06 2.06-.94-2.06-.94-.94-2.06-.94 2.06-2.06.94zm-11 1L8.5 8.5l.94-2.06 2.06-.94-2.06-.94L8.5 2.5l-.94 2.06-2.06.94zm10 10l.94 2.06.94-2.06 2.06-.94-2.06-.94-.94-2.06-.94 2.06-2.06.94z\"/><path d=\"M17.41 7.96l-1.37-1.37c-.4-.4-.92-.59-1.43-.59-.52 0-1.04.2-1.43.59L10.3 9.45l-7.72 7.72c-.78.78-.78 2.05 0 2.83L4 21.41c.39.39.9.59 1.41.59.51 0 1.02-.2 1.41-.59l7.78-7.78 2.81-2.81c.8-.78.8-2.07 0-2.86zM5.41 20L4 18.59l7.72-7.72 1.47 1.35L5.41 20z\"/>\n",
              "  </svg>\n",
              "      </button>\n",
              "      \n",
              "  <style>\n",
              "    .colab-df-container {\n",
              "      display:flex;\n",
              "      flex-wrap:wrap;\n",
              "      gap: 12px;\n",
              "    }\n",
              "\n",
              "    .colab-df-convert {\n",
              "      background-color: #E8F0FE;\n",
              "      border: none;\n",
              "      border-radius: 50%;\n",
              "      cursor: pointer;\n",
              "      display: none;\n",
              "      fill: #1967D2;\n",
              "      height: 32px;\n",
              "      padding: 0 0 0 0;\n",
              "      width: 32px;\n",
              "    }\n",
              "\n",
              "    .colab-df-convert:hover {\n",
              "      background-color: #E2EBFA;\n",
              "      box-shadow: 0px 1px 2px rgba(60, 64, 67, 0.3), 0px 1px 3px 1px rgba(60, 64, 67, 0.15);\n",
              "      fill: #174EA6;\n",
              "    }\n",
              "\n",
              "    [theme=dark] .colab-df-convert {\n",
              "      background-color: #3B4455;\n",
              "      fill: #D2E3FC;\n",
              "    }\n",
              "\n",
              "    [theme=dark] .colab-df-convert:hover {\n",
              "      background-color: #434B5C;\n",
              "      box-shadow: 0px 1px 3px 1px rgba(0, 0, 0, 0.15);\n",
              "      filter: drop-shadow(0px 1px 2px rgba(0, 0, 0, 0.3));\n",
              "      fill: #FFFFFF;\n",
              "    }\n",
              "  </style>\n",
              "\n",
              "      <script>\n",
              "        const buttonEl =\n",
              "          document.querySelector('#df-9a8f6e2a-8ed3-47fa-88da-565899c17ff9 button.colab-df-convert');\n",
              "        buttonEl.style.display =\n",
              "          google.colab.kernel.accessAllowed ? 'block' : 'none';\n",
              "\n",
              "        async function convertToInteractive(key) {\n",
              "          const element = document.querySelector('#df-9a8f6e2a-8ed3-47fa-88da-565899c17ff9');\n",
              "          const dataTable =\n",
              "            await google.colab.kernel.invokeFunction('convertToInteractive',\n",
              "                                                     [key], {});\n",
              "          if (!dataTable) return;\n",
              "\n",
              "          const docLinkHtml = 'Like what you see? Visit the ' +\n",
              "            '<a target=\"_blank\" href=https://colab.research.google.com/notebooks/data_table.ipynb>data table notebook</a>'\n",
              "            + ' to learn more about interactive tables.';\n",
              "          element.innerHTML = '';\n",
              "          dataTable['output_type'] = 'display_data';\n",
              "          await google.colab.output.renderOutput(dataTable, element);\n",
              "          const docLink = document.createElement('div');\n",
              "          docLink.innerHTML = docLinkHtml;\n",
              "          element.appendChild(docLink);\n",
              "        }\n",
              "      </script>\n",
              "    </div>\n",
              "  </div>\n",
              "  "
            ]
          },
          "metadata": {},
          "execution_count": 16
        }
      ]
    },
    {
      "cell_type": "code",
      "source": [
        "print(df.clean_content.loc[99])"
      ],
      "metadata": {
        "colab": {
          "base_uri": "https://localhost:8080/"
        },
        "id": "p2KbQxXbmQ1_",
        "outputId": "ed13f697-6e26-4e1a-df09-1fa17ff4492e"
      },
      "execution_count": null,
      "outputs": [
        {
          "output_type": "stream",
          "name": "stdout",
          "text": [
            "O'Conner-Dobbins equation may be used for streams with depths greater than 5 feet and\n",
            "where there are adequate stream depth profiles or reasonable estimates available. If stream flow\n",
            "is less than 280 cfs, Tsivoglou escape coefficient values should be considered.\n",
            "12 .9 *V 0.5\n",
            "Ka =\n",
            "D1.5\n",
            "where:\n",
            "V      = velocity in ft./sec.\n",
            "D      = depth in ft.\n",
            "Ka     = reaeration rate 1/day (base e @ 20°C).\n",
            "A minimum Ka value of 0.15/day will be used except in the case mentioned under Kd\n",
            "where Ka/Kd is not less than 2.\n",
            "In the WASP model COVAR may be considered.\n",
            "Stream Background Conditions\n",
            "Assume the following stream background conditions unless data show otherwise.\n",
            "DO = 85% of saturation at assumed stream temperature (table attached)\n",
            "CBODU = 2.0 mg/l\n",
            "CBOD5 = 1.33 mg/l\n",
            "NBODU = 0.5 mg/l\n",
            "NH3-N = 0.10 mg/l\n",
            "Photosynthesis / Respiration\n",
            "Input values for P and R (mg/l/day) can be determined in stream studies using the:\n",
            "Delta Method\n",
            "Diurnal Curve Method\n",
            "Light/Dark Bottle Method\n",
            "In the absence of field data, P and R will be assumed to be 0.0 mg/l/day.             This\n",
            "assumption will be reevaluated for streams dominated by algae.\n",
            "Sediment Oxygen Demand\n"
          ]
        }
      ]
    },
    {
      "cell_type": "code",
      "source": [
        "counts_df_all.sum(axis=1).sort_values(ascending=False)"
      ],
      "metadata": {
        "colab": {
          "base_uri": "https://localhost:8080/"
        },
        "id": "XFfVxaAJmXOW",
        "outputId": "09124d56-256d-4527-fe24-7508004557c6"
      },
      "execution_count": null,
      "outputs": [
        {
          "output_type": "execute_result",
          "data": {
            "text/plain": [
              "172    38\n",
              "164    33\n",
              "483    31\n",
              "100    31\n",
              "457    29\n",
              "       ..\n",
              "344     0\n",
              "339     0\n",
              "318     0\n",
              "312     0\n",
              "585     0\n",
              "Length: 586, dtype: int64"
            ]
          },
          "metadata": {},
          "execution_count": 18
        }
      ]
    },
    {
      "cell_type": "code",
      "source": [
        "page_param_count = counts_df_full_only.sum(axis=1).sort_values(ascending=False).to_frame()\n",
        "page_param_count[page_param_count[0]>0].shape"
      ],
      "metadata": {
        "colab": {
          "base_uri": "https://localhost:8080/"
        },
        "id": "pPuw4hSQyCA6",
        "outputId": "8c82662c-fad9-4adf-c70a-3f2e14545d1f"
      },
      "execution_count": null,
      "outputs": [
        {
          "output_type": "execute_result",
          "data": {
            "text/plain": [
              "(66, 1)"
            ]
          },
          "metadata": {},
          "execution_count": 28
        }
      ]
    },
    {
      "cell_type": "code",
      "source": [
        "counts_df_all.loc[172]"
      ],
      "metadata": {
        "colab": {
          "base_uri": "https://localhost:8080/"
        },
        "id": "WkiSB4-vmcRj",
        "outputId": "c4a004f8-016c-40ce-b23d-b7c8d265288b"
      },
      "execution_count": null,
      "outputs": [
        {
          "output_type": "execute_result",
          "data": {
            "text/plain": [
              "Aldrin             1\n",
              "Chlordane          1\n",
              "DDT                1\n",
              "Dieldrin           1\n",
              "Dioxin             2\n",
              "                  ..\n",
              "Trifluralin        0\n",
              "Trihalomethanes    0\n",
              "Uranium            0\n",
              "Vinyl chloride     0\n",
              "Xylene             0\n",
              "Name: 172, Length: 124, dtype: int64"
            ]
          },
          "metadata": {},
          "execution_count": 19
        }
      ]
    },
    {
      "cell_type": "code",
      "source": [
        "print(df.clean_content.loc[171])"
      ],
      "metadata": {
        "colab": {
          "base_uri": "https://localhost:8080/"
        },
        "id": "QBB2kjJcmgPf",
        "outputId": "0125c67e-4a29-4f5c-a441-c3842b9dc14c"
      },
      "execution_count": null,
      "outputs": [
        {
          "output_type": "stream",
          "name": "stdout",
          "text": [
            "TABLE 2 Notes\n",
            "The CMC = 1/[(f1/CMC1) + (f2/CMC2)] where f1 and f2 are the fractions of total selenium\n",
            "that are treated as selenite and selenate, respectively, and CMC1 and CMC2 are 185.9 µg/l\n",
            "and 12.83 µg/l. The value in the table is calculated assuming a worst case scenario in\n",
            "which all selenium is present as selenate.\n",
            "Hardness dependent parameter. Criteria are indicated at hardness of 50 mg/l as CaCO3.\n",
            "Equations for criteria calculation of hardness dependent parameters can be found in Quality\n",
            "Criteria for Water. The equation is applicable for instream hardness ranges from 25 mg/l\n",
            "to 400 mg/l. If instream hardness is less than 25 mg/l, then a hardness value of 25 mg/l\n",
            "should be used to calculate the criteria. If instream hardness is greater than 400 mg/l, then\n",
            "a hardness of 400 mg/l should be used to calculate the criteria.\n",
            "Criteria for pentachlorophenol are based on a pH dependent equation as found in Quality\n",
            "Criteria for Water. Values listed are for a pH of 7.0 s.u.\n",
            "Site specific criteria for Mississippi Sound.\n",
            "Parameter subject to water effects ratio equations where:\n",
            "CMC = WER * Acute\n",
            "CCC = WER * Chronic\n",
            "Ammonia criteria are dependent on pH, temperature, and/or salinity. See Section II.10.C.\n",
            "Expressed as µg free cyanide (as CN)/L.\n",
            "Refers to the inorganic form only.\n",
            "Applies to the sum of  and  isomers.\n",
            "Chemical Abstracts Service (CAS) registry numbers, which provide a unique identification\n",
            "for each chemical.\n",
            "This criterion applies to total PCBs (e.g., the sum of all congener or all isomer or homolog\n",
            "or Aroclor analyses).\n"
          ]
        }
      ]
    }
  ]
}